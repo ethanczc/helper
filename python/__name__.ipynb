{
 "cells": [
  {
   "cell_type": "markdown",
   "id": "9417f539-4475-44e3-baaf-2b00c3882b7a",
   "metadata": {},
   "source": [
    "# meaning of __ name __\n",
    "__ name __ is a default variable in a python file"
   ]
  },
  {
   "cell_type": "code",
   "execution_count": 4,
   "id": "779dd06d-f70f-4c91-ac7e-383d578640ce",
   "metadata": {},
   "outputs": [
    {
     "data": {
      "text/plain": [
       "'__main__'"
      ]
     },
     "execution_count": 4,
     "metadata": {},
     "output_type": "execute_result"
    }
   ],
   "source": [
    "__name__"
   ]
  },
  {
   "cell_type": "code",
   "execution_count": 5,
   "id": "60d7b1bc-4b94-4a0c-aa7d-22e53aa8cf48",
   "metadata": {},
   "outputs": [
    {
     "name": "stdout",
     "output_type": "stream",
     "text": [
      "File1 is being run directly\n"
     ]
    }
   ],
   "source": [
    "if __name__ == \"__main__\": \n",
    "    print (\"File1 is being run directly\")\n",
    "else: \n",
    "    print (\"File1 is being imported\")"
   ]
  },
  {
   "cell_type": "code",
   "execution_count": null,
   "id": "5b13b34c-e0bf-4c8d-b442-9e15380b369a",
   "metadata": {},
   "outputs": [],
   "source": []
  }
 ],
 "metadata": {
  "kernelspec": {
   "display_name": "Python 3",
   "language": "python",
   "name": "python3"
  },
  "language_info": {
   "codemirror_mode": {
    "name": "ipython",
    "version": 3
   },
   "file_extension": ".py",
   "mimetype": "text/x-python",
   "name": "python",
   "nbconvert_exporter": "python",
   "pygments_lexer": "ipython3",
   "version": "3.8.8"
  }
 },
 "nbformat": 4,
 "nbformat_minor": 5
}
