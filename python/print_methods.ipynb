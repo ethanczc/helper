{
 "cells": [
  {
   "cell_type": "markdown",
   "id": "16d6a538-97a4-4334-8e40-bf742d676da5",
   "metadata": {},
   "source": [
    "# Print methods"
   ]
  },
  {
   "cell_type": "code",
   "execution_count": 1,
   "id": "6281b427-19d9-4baf-993f-eeae1db93519",
   "metadata": {},
   "outputs": [],
   "source": [
    "x = 1.5\n",
    "y = 2"
   ]
  },
  {
   "cell_type": "code",
   "execution_count": 12,
   "id": "8a4ac8a9-522b-4ba7-a1a6-479eb748b53a",
   "metadata": {},
   "outputs": [
    {
     "name": "stdout",
     "output_type": "stream",
     "text": [
      "method 1, x:  1.500 y: 2\n"
     ]
    }
   ],
   "source": [
    "print('method 1, x: %6.3f y: %i' % (x,y))\n",
    "# %1.3 refers to 6 spaces in front of decimal, and 3 decimals places\n",
    "# %i refers to integer"
   ]
  },
  {
   "cell_type": "code",
   "execution_count": 13,
   "id": "f19fae83-ad7e-4202-ac83-0a280f2087a8",
   "metadata": {},
   "outputs": [
    {
     "name": "stdout",
     "output_type": "stream",
     "text": [
      "method 2, x: 1.5 y: 2\n"
     ]
    }
   ],
   "source": [
    "print ('method 2, x: ' + str(x) + ' y: ' + str(y))"
   ]
  },
  {
   "cell_type": "code",
   "execution_count": 18,
   "id": "64a56e72-0ca5-4146-b413-065b3c99272b",
   "metadata": {},
   "outputs": [
    {
     "name": "stdout",
     "output_type": "stream",
     "text": [
      "method 3, x: 1.5 y: 2\n"
     ]
    }
   ],
   "source": [
    "print ('method 3, x: {} y: {}'.format(x,y))"
   ]
  },
  {
   "cell_type": "code",
   "execution_count": 15,
   "id": "2149557d-a147-4c4d-9613-3832c12c6c0a",
   "metadata": {},
   "outputs": [
    {
     "name": "stdout",
     "output_type": "stream",
     "text": [
      "method 4,  1.5 2\n"
     ]
    }
   ],
   "source": [
    "print ('method 4, ',x,y)"
   ]
  },
  {
   "cell_type": "code",
   "execution_count": 16,
   "id": "7d5a42d8-97e6-4437-aec4-9425a1bb1af4",
   "metadata": {},
   "outputs": [
    {
     "name": "stdout",
     "output_type": "stream",
     "text": [
      "John is 23 years old\n"
     ]
    }
   ],
   "source": [
    "print (\"%s is %i years old\" % (\"John\", 23)) \n",
    "# %s = string, %i = integer"
   ]
  },
  {
   "cell_type": "code",
   "execution_count": null,
   "id": "42473fc7-c1b6-4246-8fbe-66b3d96deddc",
   "metadata": {},
   "outputs": [],
   "source": []
  }
 ],
 "metadata": {
  "kernelspec": {
   "display_name": "Python 3",
   "language": "python",
   "name": "python3"
  },
  "language_info": {
   "codemirror_mode": {
    "name": "ipython",
    "version": 3
   },
   "file_extension": ".py",
   "mimetype": "text/x-python",
   "name": "python",
   "nbconvert_exporter": "python",
   "pygments_lexer": "ipython3",
   "version": "3.8.8"
  }
 },
 "nbformat": 4,
 "nbformat_minor": 5
}
