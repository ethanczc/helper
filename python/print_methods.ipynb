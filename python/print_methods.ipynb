{
 "cells": [
  {
   "cell_type": "markdown",
   "id": "16d6a538-97a4-4334-8e40-bf742d676da5",
   "metadata": {},
   "source": [
    "# Print methods"
   ]
  },
  {
   "cell_type": "code",
   "execution_count": 14,
   "id": "6281b427-19d9-4baf-993f-eeae1db93519",
   "metadata": {},
   "outputs": [],
   "source": [
    "x = 1.5\n",
    "y = 2"
   ]
  },
  {
   "cell_type": "code",
   "execution_count": 15,
   "id": "8a4ac8a9-522b-4ba7-a1a6-479eb748b53a",
   "metadata": {},
   "outputs": [
    {
     "data": {
      "text/plain": [
       "'method 1, x:  1.500 y: 2'"
      ]
     },
     "execution_count": 15,
     "metadata": {},
     "output_type": "execute_result"
    }
   ],
   "source": [
    "'method 1, x: %6.3f y: %i' % (x,y)\n",
    "# %1.3 refers to 6 spaces in front of decimal, and 3 decimals places\n",
    "# %i refers to integer"
   ]
  },
  {
   "cell_type": "code",
   "execution_count": 16,
   "id": "f19fae83-ad7e-4202-ac83-0a280f2087a8",
   "metadata": {},
   "outputs": [
    {
     "data": {
      "text/plain": [
       "'method 2, x: 1.5 y: 2'"
      ]
     },
     "execution_count": 16,
     "metadata": {},
     "output_type": "execute_result"
    }
   ],
   "source": [
    "'method 2, x: ' + str(x) + ' y: ' + str(y)"
   ]
  },
  {
   "cell_type": "code",
   "execution_count": 17,
   "id": "64a56e72-0ca5-4146-b413-065b3c99272b",
   "metadata": {},
   "outputs": [
    {
     "data": {
      "text/plain": [
       "'method 3, x: 1.5 y: 2'"
      ]
     },
     "execution_count": 17,
     "metadata": {},
     "output_type": "execute_result"
    }
   ],
   "source": [
    "'method 3, x: {} y: {}'.format(x,y)"
   ]
  },
  {
   "cell_type": "code",
   "execution_count": 18,
   "id": "741b210b-b843-4b8a-a223-7fef669364d0",
   "metadata": {},
   "outputs": [
    {
     "data": {
      "text/plain": [
       "'method 3, x: 2 y: 1.5'"
      ]
     },
     "execution_count": 18,
     "metadata": {},
     "output_type": "execute_result"
    }
   ],
   "source": [
    "# with indexes\n",
    "'method 3, x: {1} y: {0}'.format(x,y)"
   ]
  },
  {
   "cell_type": "code",
   "execution_count": 19,
   "id": "2149557d-a147-4c4d-9613-3832c12c6c0a",
   "metadata": {},
   "outputs": [
    {
     "name": "stdout",
     "output_type": "stream",
     "text": [
      "method 4:  1.5 2\n"
     ]
    }
   ],
   "source": [
    "print('method 4: ',x,y)"
   ]
  },
  {
   "cell_type": "code",
   "execution_count": 20,
   "id": "ba532da5-2dd4-4180-9bbe-982da2d7c11c",
   "metadata": {},
   "outputs": [
    {
     "data": {
      "text/plain": [
       "'John is 23 years old'"
      ]
     },
     "execution_count": 20,
     "metadata": {},
     "output_type": "execute_result"
    }
   ],
   "source": [
    "# %i = integer\n",
    "'John is %i years old' % 23"
   ]
  },
  {
   "cell_type": "code",
   "execution_count": 21,
   "id": "c05e88d3-448a-4152-8929-ca62dfc58dcf",
   "metadata": {},
   "outputs": [],
   "source": [
    "person = 'John'"
   ]
  },
  {
   "cell_type": "code",
   "execution_count": 22,
   "id": "7d5a42d8-97e6-4437-aec4-9425a1bb1af4",
   "metadata": {},
   "outputs": [
    {
     "data": {
      "text/plain": [
       "'John is 23 years old'"
      ]
     },
     "execution_count": 22,
     "metadata": {},
     "output_type": "execute_result"
    }
   ],
   "source": [
    "# %s = string, use tuple for more than 1 variable\n",
    "'%s is %i years old' % (person, 23)"
   ]
  },
  {
   "cell_type": "code",
   "execution_count": 23,
   "id": "42473fc7-c1b6-4246-8fbe-66b3d96deddc",
   "metadata": {},
   "outputs": [
    {
     "name": "stdout",
     "output_type": "stream",
     "text": [
      "hello\n",
      "world\n"
     ]
    }
   ],
   "source": [
    "# inbuilt sep arg\n",
    "print('hello','world',sep='\\n')"
   ]
  },
  {
   "cell_type": "code",
   "execution_count": null,
   "id": "212c35f9-d1af-49a3-9afc-4f272e4ab9db",
   "metadata": {},
   "outputs": [],
   "source": []
  }
 ],
 "metadata": {
  "kernelspec": {
   "display_name": "Python 3 (ipykernel)",
   "language": "python",
   "name": "python3"
  },
  "language_info": {
   "codemirror_mode": {
    "name": "ipython",
    "version": 3
   },
   "file_extension": ".py",
   "mimetype": "text/x-python",
   "name": "python",
   "nbconvert_exporter": "python",
   "pygments_lexer": "ipython3",
   "version": "3.10.8"
  }
 },
 "nbformat": 4,
 "nbformat_minor": 5
}
