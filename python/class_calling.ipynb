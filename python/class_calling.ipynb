{
 "cells": [
  {
   "cell_type": "markdown",
   "id": "7b198469-9672-4271-8d1e-de91e7a5b8de",
   "metadata": {},
   "source": [
    "# Modules and classes\n",
    "This code will call for the classes within class_source.py"
   ]
  },
  {
   "cell_type": "markdown",
   "id": "f44f1108-cbbf-4354-975b-0b0f553077c0",
   "metadata": {},
   "source": [
    "## import it as it is"
   ]
  },
  {
   "cell_type": "code",
   "execution_count": 8,
   "id": "befa06a6-490b-4578-9438-9cc73f4cbcf1",
   "metadata": {},
   "outputs": [],
   "source": [
    "import class_source"
   ]
  },
  {
   "cell_type": "code",
   "execution_count": 18,
   "id": "7dafa50e-1694-4dd9-85c5-cb1ab5bdc9ca",
   "metadata": {},
   "outputs": [],
   "source": [
    "# use the Person class\n",
    "ethan = class_source.Person('ethan',35,'hello',height=175)"
   ]
  },
  {
   "cell_type": "code",
   "execution_count": 16,
   "id": "f7004775-4d9f-4aa0-95f0-d35c925c21c1",
   "metadata": {},
   "outputs": [
    {
     "data": {
      "text/plain": [
       "35"
      ]
     },
     "execution_count": 16,
     "metadata": {},
     "output_type": "execute_result"
    }
   ],
   "source": [
    "# check for field values\n",
    "ethan.age"
   ]
  },
  {
   "cell_type": "code",
   "execution_count": 17,
   "id": "01210fcd-c9cc-40b8-b927-85e7efddab4a",
   "metadata": {},
   "outputs": [
    {
     "name": "stdout",
     "output_type": "stream",
     "text": [
      "ethan says hello\n"
     ]
    }
   ],
   "source": [
    "# use the call method provided by the Person class\n",
    "ethan.call()"
   ]
  },
  {
   "cell_type": "code",
   "execution_count": 21,
   "id": "4d7352de-4f2b-4de4-b546-df92e9a6e868",
   "metadata": {},
   "outputs": [
    {
     "data": {
      "text/plain": [
       "'the hobo'"
      ]
     },
     "execution_count": 21,
     "metadata": {},
     "output_type": "execute_result"
    }
   ],
   "source": [
    "# use the Hobo class\n",
    "hobo = class_source.Hobo()\n",
    "hobo.name"
   ]
  },
  {
   "cell_type": "markdown",
   "id": "1f46177e-5115-4600-92ff-a2b0d2d9743b",
   "metadata": {},
   "source": [
    "## import 1 particular class within the file"
   ]
  },
  {
   "cell_type": "code",
   "execution_count": 26,
   "id": "9afef93d-8490-4e9f-b692-aa4f6a34136d",
   "metadata": {},
   "outputs": [],
   "source": [
    "from class_source import Person"
   ]
  },
  {
   "cell_type": "code",
   "execution_count": 29,
   "id": "0c143d63-595a-4acd-877e-d26051c21ae2",
   "metadata": {},
   "outputs": [
    {
     "data": {
      "text/plain": [
       "25"
      ]
     },
     "execution_count": 29,
     "metadata": {},
     "output_type": "execute_result"
    }
   ],
   "source": [
    "# no longer needed to include file name\n",
    "tom = Person('tom',25,'bonjour',height=180)\n",
    "tom.age"
   ]
  },
  {
   "cell_type": "code",
   "execution_count": 30,
   "id": "849445c7-e3d0-4483-9780-88274c6c4239",
   "metadata": {},
   "outputs": [],
   "source": [
    "# other classes are not accessible"
   ]
  },
  {
   "cell_type": "markdown",
   "id": "1ca74f67-0281-4caa-8493-d7e225a2ee76",
   "metadata": {},
   "source": [
    "## import all classes within the file"
   ]
  },
  {
   "cell_type": "code",
   "execution_count": 22,
   "id": "c206002d-25e6-431c-ab43-3e520d717e33",
   "metadata": {},
   "outputs": [],
   "source": [
    "from class_source import *"
   ]
  },
  {
   "cell_type": "code",
   "execution_count": 28,
   "id": "bc6984c6-3195-4802-bfda-3a56af4f737f",
   "metadata": {},
   "outputs": [
    {
     "data": {
      "text/plain": [
       "25"
      ]
     },
     "execution_count": 28,
     "metadata": {},
     "output_type": "execute_result"
    }
   ],
   "source": [
    "tom = Person('tom',25,'bonjour',height=180)\n",
    "tom.age"
   ]
  },
  {
   "cell_type": "code",
   "execution_count": 31,
   "id": "2348aa6e-2dff-4eb1-9541-e84bb0b7cab7",
   "metadata": {},
   "outputs": [
    {
     "data": {
      "text/plain": [
       "'the hobo'"
      ]
     },
     "execution_count": 31,
     "metadata": {},
     "output_type": "execute_result"
    }
   ],
   "source": [
    "hobo_1 = Hobo()\n",
    "hobo_1.name"
   ]
  },
  {
   "cell_type": "code",
   "execution_count": 33,
   "id": "96679239-ad80-4a61-b31c-29c42159da45",
   "metadata": {},
   "outputs": [
    {
     "data": {
      "text/plain": [
       "3"
      ]
     },
     "execution_count": 33,
     "metadata": {},
     "output_type": "execute_result"
    }
   ],
   "source": [
    "sumation = Perform_Addition(1,2)\n",
    "sumation.result"
   ]
  },
  {
   "cell_type": "markdown",
   "id": "86353b90-b2b6-4c17-bb7d-9f7dfeaaaf98",
   "metadata": {},
   "source": [
    "## import 1 file as another name"
   ]
  },
  {
   "cell_type": "code",
   "execution_count": 37,
   "id": "23013e50-ba11-4278-a75e-871a8e128ada",
   "metadata": {},
   "outputs": [],
   "source": [
    "import class_source as c"
   ]
  },
  {
   "cell_type": "code",
   "execution_count": 38,
   "id": "6d413fa1-01c8-4bac-a6de-9e1c3439b746",
   "metadata": {},
   "outputs": [
    {
     "data": {
      "text/plain": [
       "'ethan'"
      ]
     },
     "execution_count": 38,
     "metadata": {},
     "output_type": "execute_result"
    }
   ],
   "source": [
    "ethan = c.Person('ethan',35,'hello',height=175)\n",
    "ethan.name"
   ]
  },
  {
   "cell_type": "code",
   "execution_count": null,
   "id": "873caaca-59e8-4ac9-a237-e07924932bef",
   "metadata": {},
   "outputs": [],
   "source": []
  }
 ],
 "metadata": {
  "kernelspec": {
   "display_name": "Python 3",
   "language": "python",
   "name": "python3"
  },
  "language_info": {
   "codemirror_mode": {
    "name": "ipython",
    "version": 3
   },
   "file_extension": ".py",
   "mimetype": "text/x-python",
   "name": "python",
   "nbconvert_exporter": "python",
   "pygments_lexer": "ipython3",
   "version": "3.8.8"
  }
 },
 "nbformat": 4,
 "nbformat_minor": 5
}
