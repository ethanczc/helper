{
 "cells": [
  {
   "cell_type": "markdown",
   "metadata": {},
   "source": [
    "# Import from Parent\n",
    "Problem of pathing across different os because of slash convention \\\n",
    "Use inbuilt modules like pathlib to work across all platforms"
   ]
  },
  {
   "cell_type": "code",
   "execution_count": 1,
   "metadata": {},
   "outputs": [],
   "source": [
    "from pathlib import Path\n",
    "import sys\n",
    "import os"
   ]
  },
  {
   "cell_type": "markdown",
   "metadata": {},
   "source": [
    "### Using pathlib"
   ]
  },
  {
   "cell_type": "code",
   "execution_count": 2,
   "metadata": {},
   "outputs": [
    {
     "data": {
      "text/plain": [
       "'c:\\\\Users\\\\ethan\\\\OneDrive\\\\Documents\\\\GitHub\\\\helper\\\\python'"
      ]
     },
     "execution_count": 2,
     "metadata": {},
     "output_type": "execute_result"
    }
   ],
   "source": [
    "sys.path[0]"
   ]
  },
  {
   "cell_type": "code",
   "execution_count": 3,
   "metadata": {},
   "outputs": [
    {
     "data": {
      "text/plain": [
       "['c:\\\\Users\\\\ethan\\\\OneDrive\\\\Documents\\\\GitHub\\\\helper\\\\python',\n",
       " 'c:\\\\Users\\\\ethan\\\\miniconda3\\\\envs\\\\aico2e\\\\python310.zip',\n",
       " 'c:\\\\Users\\\\ethan\\\\miniconda3\\\\envs\\\\aico2e\\\\DLLs',\n",
       " 'c:\\\\Users\\\\ethan\\\\miniconda3\\\\envs\\\\aico2e\\\\lib',\n",
       " 'c:\\\\Users\\\\ethan\\\\miniconda3\\\\envs\\\\aico2e',\n",
       " '',\n",
       " 'c:\\\\Users\\\\ethan\\\\miniconda3\\\\envs\\\\aico2e\\\\lib\\\\site-packages',\n",
       " 'c:\\\\Users\\\\ethan\\\\miniconda3\\\\envs\\\\aico2e\\\\lib\\\\site-packages\\\\win32',\n",
       " 'c:\\\\Users\\\\ethan\\\\miniconda3\\\\envs\\\\aico2e\\\\lib\\\\site-packages\\\\win32\\\\lib',\n",
       " 'c:\\\\Users\\\\ethan\\\\miniconda3\\\\envs\\\\aico2e\\\\lib\\\\site-packages\\\\Pythonwin']"
      ]
     },
     "execution_count": 3,
     "metadata": {},
     "output_type": "execute_result"
    }
   ],
   "source": [
    "sys.path"
   ]
  },
  {
   "cell_type": "code",
   "execution_count": 4,
   "metadata": {},
   "outputs": [
    {
     "data": {
      "text/plain": [
       "WindowsPath('c:/Users/ethan/OneDrive/Documents/GitHub/helper/python')"
      ]
     },
     "execution_count": 4,
     "metadata": {},
     "output_type": "execute_result"
    }
   ],
   "source": [
    "Path.cwd()"
   ]
  },
  {
   "cell_type": "code",
   "execution_count": 5,
   "metadata": {},
   "outputs": [
    {
     "data": {
      "text/plain": [
       "'c:\\\\Users\\\\ethan\\\\OneDrive\\\\Documents\\\\GitHub\\\\helper'"
      ]
     },
     "execution_count": 5,
     "metadata": {},
     "output_type": "execute_result"
    }
   ],
   "source": [
    "# this works. inserting to top of path list.\n",
    "sys.path.insert(0, str(Path.cwd().parent))\n",
    "sys.path[0]"
   ]
  },
  {
   "cell_type": "code",
   "execution_count": 6,
   "metadata": {},
   "outputs": [
    {
     "data": {
      "text/plain": [
       "'c:\\\\Users\\\\ethan\\\\OneDrive\\\\Documents\\\\GitHub\\\\helper'"
      ]
     },
     "execution_count": 6,
     "metadata": {},
     "output_type": "execute_result"
    }
   ],
   "source": [
    "# this works. appending to bottom works too.\n",
    "sys.path.append(str(Path.cwd().parent))\n",
    "sys.path[-1]"
   ]
  },
  {
   "cell_type": "code",
   "execution_count": 7,
   "metadata": {},
   "outputs": [
    {
     "data": {
      "text/plain": [
       "['c:\\\\Users\\\\ethan\\\\OneDrive\\\\Documents\\\\GitHub\\\\helper',\n",
       " 'c:\\\\Users\\\\ethan\\\\OneDrive\\\\Documents\\\\GitHub\\\\helper\\\\python',\n",
       " 'c:\\\\Users\\\\ethan\\\\miniconda3\\\\envs\\\\aico2e\\\\python310.zip',\n",
       " 'c:\\\\Users\\\\ethan\\\\miniconda3\\\\envs\\\\aico2e\\\\DLLs',\n",
       " 'c:\\\\Users\\\\ethan\\\\miniconda3\\\\envs\\\\aico2e\\\\lib',\n",
       " 'c:\\\\Users\\\\ethan\\\\miniconda3\\\\envs\\\\aico2e',\n",
       " '',\n",
       " 'c:\\\\Users\\\\ethan\\\\miniconda3\\\\envs\\\\aico2e\\\\lib\\\\site-packages',\n",
       " 'c:\\\\Users\\\\ethan\\\\miniconda3\\\\envs\\\\aico2e\\\\lib\\\\site-packages\\\\win32',\n",
       " 'c:\\\\Users\\\\ethan\\\\miniconda3\\\\envs\\\\aico2e\\\\lib\\\\site-packages\\\\win32\\\\lib',\n",
       " 'c:\\\\Users\\\\ethan\\\\miniconda3\\\\envs\\\\aico2e\\\\lib\\\\site-packages\\\\Pythonwin',\n",
       " 'c:\\\\Users\\\\ethan\\\\OneDrive\\\\Documents\\\\GitHub\\\\helper']"
      ]
     },
     "execution_count": 7,
     "metadata": {},
     "output_type": "execute_result"
    }
   ],
   "source": [
    "# insert and appending to top and bottom. \n",
    "# i think python uses this list to find the package\n",
    "sys.path"
   ]
  },
  {
   "cell_type": "markdown",
   "metadata": {},
   "source": [
    "This is how it should look like in your code. \\\n",
    "`from pathlib import Path ` \\\n",
    "`sys.path.append(str(Path.cwd().parent)) ` \\\n",
    "`from package_x import class_x `"
   ]
  },
  {
   "cell_type": "markdown",
   "metadata": {},
   "source": [
    "### Using os.chdir\n",
    "- although it is clean code, somehow it didnt work on windows python"
   ]
  },
  {
   "cell_type": "code",
   "execution_count": 8,
   "metadata": {},
   "outputs": [
    {
     "data": {
      "text/plain": [
       "'c:\\\\Users\\\\ethan\\\\OneDrive\\\\Documents\\\\GitHub\\\\helper\\\\python'"
      ]
     },
     "execution_count": 8,
     "metadata": {},
     "output_type": "execute_result"
    }
   ],
   "source": [
    "# get current working directory\n",
    "cwd = os.getcwd()\n",
    "cwd"
   ]
  },
  {
   "cell_type": "code",
   "execution_count": 9,
   "metadata": {},
   "outputs": [
    {
     "data": {
      "text/plain": [
       "'c:\\\\Users\\\\ethan\\\\OneDrive\\\\Documents\\\\GitHub\\\\helper'"
      ]
     },
     "execution_count": 9,
     "metadata": {},
     "output_type": "execute_result"
    }
   ],
   "source": [
    "# change to parent directory\n",
    "os.chdir('..')\n",
    "new_dir = os.getcwd()\n",
    "new_dir"
   ]
  },
  {
   "cell_type": "code",
   "execution_count": 10,
   "metadata": {},
   "outputs": [
    {
     "name": "stdout",
     "output_type": "stream",
     "text": [
      "c:\\Users\\ethan\\OneDrive\\Documents\\GitHub\\helper\\python\n"
     ]
    }
   ],
   "source": [
    "# change back to current working directory\n",
    "os.chdir(cwd)\n",
    "final_dir = os.getcwd()\n",
    "print(final_dir)"
   ]
  },
  {
   "cell_type": "code",
   "execution_count": null,
   "metadata": {},
   "outputs": [],
   "source": []
  }
 ],
 "metadata": {
  "kernelspec": {
   "display_name": "aico2e",
   "language": "python",
   "name": "python3"
  },
  "language_info": {
   "codemirror_mode": {
    "name": "ipython",
    "version": 3
   },
   "file_extension": ".py",
   "mimetype": "text/x-python",
   "name": "python",
   "nbconvert_exporter": "python",
   "pygments_lexer": "ipython3",
   "version": "3.10.13"
  }
 },
 "nbformat": 4,
 "nbformat_minor": 2
}
