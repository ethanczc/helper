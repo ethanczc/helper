{
 "cells": [
  {
   "cell_type": "markdown",
   "id": "eb3fd54e-b716-4621-a3c3-7009dcea1765",
   "metadata": {},
   "source": [
    "# Converts an image to a base64 string stored in json"
   ]
  },
  {
   "cell_type": "code",
   "execution_count": 1,
   "id": "f53f5a15-8ce8-46fe-8d12-a1536a90deae",
   "metadata": {},
   "outputs": [],
   "source": [
    "import json\n",
    "import base64"
   ]
  },
  {
   "cell_type": "code",
   "execution_count": 2,
   "id": "c5253dcd-ec88-4641-aae5-65ff7cffe737",
   "metadata": {},
   "outputs": [
    {
     "data": {
      "text/plain": [
       "bytes"
      ]
     },
     "execution_count": 2,
     "metadata": {},
     "output_type": "execute_result"
    }
   ],
   "source": [
    "with open('lena.png','rb') as file:\n",
    "    byteContent = file.read()\n",
    "# png file will be read as bytes\n",
    "type(byteContent)"
   ]
  },
  {
   "cell_type": "code",
   "execution_count": 3,
   "id": "354a131b-779d-4af6-bfd7-6db2f6225d71",
   "metadata": {},
   "outputs": [
    {
     "data": {
      "text/plain": [
       "str"
      ]
     },
     "execution_count": 3,
     "metadata": {},
     "output_type": "execute_result"
    }
   ],
   "source": [
    "# encode bytes with base64 format\n",
    "base64Bytes = base64.b64encode(byteContent)\n",
    "# decode back to utf-8 format\n",
    "base64String = base64Bytes.decode('utf-8')\n",
    "# base64String will be an extremely long string\n",
    "type(base64String)"
   ]
  },
  {
   "cell_type": "code",
   "execution_count": 4,
   "id": "9d337a89-fea9-4207-9ab0-7e94203d53c7",
   "metadata": {},
   "outputs": [
    {
     "data": {
      "text/plain": [
       "dict"
      ]
     },
     "execution_count": 4,
     "metadata": {},
     "output_type": "execute_result"
    }
   ],
   "source": [
    "# add the base64-encoded image string into a dictionary, to store more datawith open('newlena.png','wb') as file:\n",
    "rawData = {\n",
    "    'image' : base64String,\n",
    "    'type': 'image'\n",
    "}\n",
    "# rawData is a dictionary\n",
    "type(rawData)"
   ]
  },
  {
   "cell_type": "code",
   "execution_count": 5,
   "id": "4a6a1071-fb4c-4d28-ba36-31390966d2d6",
   "metadata": {},
   "outputs": [
    {
     "data": {
      "text/plain": [
       "str"
      ]
     },
     "execution_count": 5,
     "metadata": {},
     "output_type": "execute_result"
    }
   ],
   "source": [
    "data = json.dumps(rawData)\n",
    "# convert dict to str\n",
    "type(data)"
   ]
  },
  {
   "cell_type": "markdown",
   "id": "942c1fb0-d9cd-4713-8bbf-0a59b1069711",
   "metadata": {},
   "source": [
    "## json obj can now be sent to client"
   ]
  },
  {
   "cell_type": "code",
   "execution_count": 6,
   "id": "798ec3a6-31ee-4895-a510-6afc75a64d18",
   "metadata": {},
   "outputs": [
    {
     "data": {
      "text/plain": [
       "dict"
      ]
     },
     "execution_count": 6,
     "metadata": {},
     "output_type": "execute_result"
    }
   ],
   "source": [
    "received = json.loads(data)\n",
    "# receiving code converts back to dict\n",
    "type(received)"
   ]
  },
  {
   "cell_type": "code",
   "execution_count": 7,
   "id": "8734fb88-918f-48f6-8c9c-a5e89ca2e2f4",
   "metadata": {},
   "outputs": [
    {
     "data": {
      "text/plain": [
       "bytes"
      ]
     },
     "execution_count": 7,
     "metadata": {},
     "output_type": "execute_result"
    }
   ],
   "source": [
    "imageString = received['image']\n",
    "encoded = imageString.encode('utf-8')\n",
    "image = base64.b64decode(encoded)\n",
    "# image is bytes\n",
    "type(image)"
   ]
  },
  {
   "cell_type": "markdown",
   "id": "d0486828-2845-42b9-b2db-19a974458562",
   "metadata": {},
   "source": [
    "## bytes can now be written back as an image"
   ]
  },
  {
   "cell_type": "code",
   "execution_count": 8,
   "id": "29439903-ad33-4f36-9235-d2965ac43932",
   "metadata": {},
   "outputs": [],
   "source": [
    "with open('lena_received.png','wb') as file:\n",
    "    file.write(image)"
   ]
  },
  {
   "cell_type": "code",
   "execution_count": null,
   "id": "d1bdd994-1744-460f-9423-829ec0b48fdf",
   "metadata": {},
   "outputs": [],
   "source": []
  }
 ],
 "metadata": {
  "kernelspec": {
   "display_name": "Python 3",
   "language": "python",
   "name": "python3"
  },
  "language_info": {
   "codemirror_mode": {
    "name": "ipython",
    "version": 3
   },
   "file_extension": ".py",
   "mimetype": "text/x-python",
   "name": "python",
   "nbconvert_exporter": "python",
   "pygments_lexer": "ipython3",
   "version": "3.8.8"
  }
 },
 "nbformat": 4,
 "nbformat_minor": 5
}
