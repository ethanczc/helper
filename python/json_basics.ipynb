{
 "cells": [
  {
   "cell_type": "markdown",
   "id": "0a800c5e-26f6-4e57-bc6e-d4a30391cf40",
   "metadata": {},
   "source": [
    "# Json basics\n",
    "json is useful for storing information"
   ]
  },
  {
   "cell_type": "code",
   "execution_count": 2,
   "id": "fb96b323-156b-4ffc-8c4b-3b52c2322d03",
   "metadata": {},
   "outputs": [],
   "source": [
    "import json\n",
    "import sys\n",
    "import time"
   ]
  },
  {
   "cell_type": "markdown",
   "id": "3b006170-8c97-4b0a-8a65-c1f8c88683d2",
   "metadata": {},
   "source": [
    "## construct the dictionary"
   ]
  },
  {
   "cell_type": "code",
   "execution_count": 3,
   "id": "e340b66b-f591-4519-a6a2-5a6714910494",
   "metadata": {},
   "outputs": [
    {
     "data": {
      "text/plain": [
       "{'node': 1, 'time': '10:36:46', 'data': 35.7}"
      ]
     },
     "execution_count": 3,
     "metadata": {},
     "output_type": "execute_result"
    }
   ],
   "source": [
    "message = {\n",
    "    'node':1,\n",
    "    'time': time.strftime('%H:%M:%S'),\n",
    "    'data':35.7\n",
    "}\n",
    "message"
   ]
  },
  {
   "cell_type": "code",
   "execution_count": 4,
   "id": "bf17f274-e008-4067-a919-eaec916d9a3e",
   "metadata": {},
   "outputs": [
    {
     "data": {
      "text/plain": [
       "dict"
      ]
     },
     "execution_count": 4,
     "metadata": {},
     "output_type": "execute_result"
    }
   ],
   "source": [
    "type(message)"
   ]
  },
  {
   "cell_type": "markdown",
   "id": "76e64747-5176-4d09-93e4-31c455da6ae6",
   "metadata": {},
   "source": [
    "## converts the dictionary into a json string"
   ]
  },
  {
   "cell_type": "code",
   "execution_count": 5,
   "id": "f2af2b85-de74-4b33-88b7-f11539f47833",
   "metadata": {},
   "outputs": [
    {
     "data": {
      "text/plain": [
       "'{\"node\": 1, \"time\": \"10:36:46\", \"data\": 35.7}'"
      ]
     },
     "execution_count": 5,
     "metadata": {},
     "output_type": "execute_result"
    }
   ],
   "source": [
    "json_message = json.dumps(message)\n",
    "json_message"
   ]
  },
  {
   "cell_type": "code",
   "execution_count": 6,
   "id": "0bc3c7db-bd17-4a3a-a78c-24aa7e14925a",
   "metadata": {},
   "outputs": [
    {
     "data": {
      "text/plain": [
       "str"
      ]
     },
     "execution_count": 6,
     "metadata": {},
     "output_type": "execute_result"
    }
   ],
   "source": [
    "type(json_message)"
   ]
  },
  {
   "cell_type": "markdown",
   "id": "21889b49-d521-4a7c-bf27-76017133ab73",
   "metadata": {},
   "source": [
    "## know the size of your object"
   ]
  },
  {
   "cell_type": "code",
   "execution_count": 7,
   "id": "c5019784-95c7-4ebc-ad70-111c6927bccd",
   "metadata": {},
   "outputs": [
    {
     "data": {
      "text/plain": [
       "94"
      ]
     },
     "execution_count": 7,
     "metadata": {},
     "output_type": "execute_result"
    }
   ],
   "source": [
    "size = sys.getsizeof(json_message)\n",
    "size"
   ]
  },
  {
   "cell_type": "markdown",
   "id": "da5ea6d8-2e45-4edc-96fe-5be49f60e9ad",
   "metadata": {},
   "source": [
    "## converts json string back to dictionary"
   ]
  },
  {
   "cell_type": "code",
   "execution_count": 9,
   "id": "f57c2465-bd08-4507-8649-c0553a539e45",
   "metadata": {},
   "outputs": [
    {
     "data": {
      "text/plain": [
       "{'node': 1, 'time': '10:36:46', 'data': 35.7}"
      ]
     },
     "execution_count": 9,
     "metadata": {},
     "output_type": "execute_result"
    }
   ],
   "source": [
    "message = json.loads(json_message)\n",
    "message"
   ]
  },
  {
   "cell_type": "code",
   "execution_count": 10,
   "id": "29884ae7-0742-42c7-bd10-6cd9fe324f63",
   "metadata": {},
   "outputs": [
    {
     "data": {
      "text/plain": [
       "1"
      ]
     },
     "execution_count": 10,
     "metadata": {},
     "output_type": "execute_result"
    }
   ],
   "source": [
    "message['node']"
   ]
  },
  {
   "cell_type": "code",
   "execution_count": 11,
   "id": "8d7b8bbb-4263-4b49-8ca5-f67e1dedc7f6",
   "metadata": {},
   "outputs": [
    {
     "data": {
      "text/plain": [
       "'10:36:46'"
      ]
     },
     "execution_count": 11,
     "metadata": {},
     "output_type": "execute_result"
    }
   ],
   "source": [
    "message['time']"
   ]
  },
  {
   "cell_type": "code",
   "execution_count": 12,
   "id": "53906d0f-86bb-4195-aa8a-4e9717dd30fe",
   "metadata": {},
   "outputs": [
    {
     "data": {
      "text/plain": [
       "35.7"
      ]
     },
     "execution_count": 12,
     "metadata": {},
     "output_type": "execute_result"
    }
   ],
   "source": [
    "message['data']"
   ]
  },
  {
   "cell_type": "code",
   "execution_count": null,
   "id": "04fd4857-d334-4a20-92db-85c4542f9afa",
   "metadata": {},
   "outputs": [],
   "source": []
  }
 ],
 "metadata": {
  "kernelspec": {
   "display_name": "Python 3",
   "language": "python",
   "name": "python3"
  },
  "language_info": {
   "codemirror_mode": {
    "name": "ipython",
    "version": 3
   },
   "file_extension": ".py",
   "mimetype": "text/x-python",
   "name": "python",
   "nbconvert_exporter": "python",
   "pygments_lexer": "ipython3",
   "version": "3.8.8"
  }
 },
 "nbformat": 4,
 "nbformat_minor": 5
}
