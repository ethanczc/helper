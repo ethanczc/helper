{
 "cells": [
  {
   "cell_type": "markdown",
   "id": "a012270f-6d93-4340-87b9-c8496897fd09",
   "metadata": {},
   "source": [
    "# Arrays"
   ]
  },
  {
   "cell_type": "markdown",
   "id": "c5849b86-46a3-4baa-ba54-3d6a32cadd62",
   "metadata": {},
   "source": [
    "## Definitions"
   ]
  },
  {
   "cell_type": "markdown",
   "id": "98446d30-4053-4983-8057-a5d88ccb68db",
   "metadata": {},
   "source": [
    "iterable: something that can return one element at a time, etc: strings, lists, tuples, dictionaries"
   ]
  },
  {
   "cell_type": "code",
   "execution_count": 21,
   "id": "8dc8ccaf-e7eb-461c-87db-564e774b9c0e",
   "metadata": {},
   "outputs": [
    {
     "data": {
      "text/plain": [
       "[1, 2, 1, 2]"
      ]
     },
     "execution_count": 21,
     "metadata": {},
     "output_type": "execute_result"
    }
   ],
   "source": [
    "[1,2] * 2"
   ]
  },
  {
   "cell_type": "code",
   "execution_count": 22,
   "id": "0cb2f03f-1a44-4416-960e-536e8f429531",
   "metadata": {},
   "outputs": [
    {
     "data": {
      "text/plain": [
       "[[1, 2], [1, 2]]"
      ]
     },
     "execution_count": 22,
     "metadata": {},
     "output_type": "execute_result"
    }
   ],
   "source": [
    "[[1,2]] * 2"
   ]
  },
  {
   "cell_type": "markdown",
   "id": "e7943f65-47d6-4475-a444-b6127de3f245",
   "metadata": {},
   "source": [
    "## Grabbing data from list A to append to list B"
   ]
  },
  {
   "cell_type": "code",
   "execution_count": 23,
   "id": "fe803e82-1320-4a4c-8356-5ba1bd31b8a0",
   "metadata": {},
   "outputs": [],
   "source": [
    "list_a = ['john','smith']\n",
    "list_b = []"
   ]
  },
  {
   "cell_type": "markdown",
   "id": "203db86d-d50b-41e6-88cc-20ffd2f3a614",
   "metadata": {},
   "source": [
    "**tradition way**"
   ]
  },
  {
   "cell_type": "code",
   "execution_count": 24,
   "id": "f72b8267-592f-40a2-8833-7547999593fb",
   "metadata": {},
   "outputs": [],
   "source": [
    "for i in list_a: \n",
    "    if 'john' in i: \n",
    "        list_b.append(i)"
   ]
  },
  {
   "cell_type": "code",
   "execution_count": 25,
   "id": "ed278baf-f8ca-47b3-bb40-979ccee3d50c",
   "metadata": {},
   "outputs": [
    {
     "data": {
      "text/plain": [
       "['john']"
      ]
     },
     "execution_count": 25,
     "metadata": {},
     "output_type": "execute_result"
    }
   ],
   "source": [
    "list_b"
   ]
  },
  {
   "cell_type": "markdown",
   "id": "d86792d5-a813-4fa6-a4f0-8fd25e6d1f42",
   "metadata": {},
   "source": [
    "**better way**"
   ]
  },
  {
   "cell_type": "code",
   "execution_count": 26,
   "id": "0168f9e8-78d4-4d0c-a051-29ce8ae30f4d",
   "metadata": {},
   "outputs": [
    {
     "data": {
      "text/plain": [
       "['john']"
      ]
     },
     "execution_count": 26,
     "metadata": {},
     "output_type": "execute_result"
    }
   ],
   "source": [
    "[i for i in list_a if 'john' in i]"
   ]
  },
  {
   "cell_type": "markdown",
   "id": "996b54ef",
   "metadata": {},
   "source": [
    "## select/pop items from a list/dict"
   ]
  },
  {
   "cell_type": "markdown",
   "id": "e2ed8972",
   "metadata": {},
   "source": [
    "**traditional way**"
   ]
  },
  {
   "cell_type": "code",
   "execution_count": 27,
   "id": "4b707c47-688d-4f3f-a57f-ec1257990854",
   "metadata": {},
   "outputs": [],
   "source": [
    "list1 = ['ethan','john','amy']"
   ]
  },
  {
   "cell_type": "code",
   "execution_count": 28,
   "id": "f49d4278",
   "metadata": {},
   "outputs": [
    {
     "data": {
      "text/plain": [
       "['ethan', 'amy']"
      ]
     },
     "execution_count": 28,
     "metadata": {},
     "output_type": "execute_result"
    }
   ],
   "source": [
    "for i in range (0, len(list1)-1):\n",
    "    if list1[i] == 'john':\n",
    "        list1.pop(i)\n",
    "list1"
   ]
  },
  {
   "cell_type": "markdown",
   "id": "1be537f0",
   "metadata": {},
   "source": [
    "## using enum to generate indexes"
   ]
  },
  {
   "cell_type": "code",
   "execution_count": 29,
   "id": "6035f13b-9bd3-4aa1-8fc6-99de8ed31734",
   "metadata": {},
   "outputs": [],
   "source": [
    "list1 = ['ethan','john','amy']"
   ]
  },
  {
   "cell_type": "code",
   "execution_count": 30,
   "id": "677acb19",
   "metadata": {},
   "outputs": [
    {
     "data": {
      "text/plain": [
       "['ethan', 'amy']"
      ]
     },
     "execution_count": 30,
     "metadata": {},
     "output_type": "execute_result"
    }
   ],
   "source": [
    "for index, item in enumerate(list1):\n",
    "    if item == 'john':\n",
    "        list1.pop(index)\n",
    "list1"
   ]
  },
  {
   "cell_type": "code",
   "execution_count": 34,
   "id": "23838e41",
   "metadata": {},
   "outputs": [
    {
     "name": "stdout",
     "output_type": "stream",
     "text": [
      "(0, 'ethan')\n",
      "(1, 'amy')\n"
     ]
    }
   ],
   "source": [
    "# example\n",
    "for i in enumerate(list1):\n",
    "    print(i)"
   ]
  },
  {
   "cell_type": "markdown",
   "id": "e2f3fed9-4a41-469e-917e-b22ab0f1192c",
   "metadata": {},
   "source": [
    "## sandbox"
   ]
  },
  {
   "cell_type": "code",
   "execution_count": null,
   "id": "0108d35b-8fc8-4722-a255-5dc1017249b4",
   "metadata": {},
   "outputs": [],
   "source": []
  },
  {
   "cell_type": "code",
   "execution_count": null,
   "id": "8de89554-122a-4147-980d-09afe640da02",
   "metadata": {},
   "outputs": [],
   "source": []
  }
 ],
 "metadata": {
  "interpreter": {
   "hash": "31f2aee4e71d21fbe5cf8b01ff0e069b9275f58929596ceb00d14d90e3e16cd6"
  },
  "kernelspec": {
   "display_name": "Python 3",
   "language": "python",
   "name": "python3"
  },
  "language_info": {
   "codemirror_mode": {
    "name": "ipython",
    "version": 3
   },
   "file_extension": ".py",
   "mimetype": "text/x-python",
   "name": "python",
   "nbconvert_exporter": "python",
   "pygments_lexer": "ipython3",
   "version": "3.8.8"
  }
 },
 "nbformat": 4,
 "nbformat_minor": 5
}
