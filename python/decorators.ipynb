{
 "cells": [
  {
   "cell_type": "markdown",
   "id": "3e999eb3-21fe-4914-b14d-cce76354c016",
   "metadata": {},
   "source": [
    "# How to use decorators"
   ]
  },
  {
   "cell_type": "markdown",
   "id": "c16aded1-2b51-42a7-8ef1-37eafd1ed57c",
   "metadata": {},
   "source": [
    "## Functions can be variables"
   ]
  },
  {
   "cell_type": "code",
   "execution_count": 2,
   "id": "99784fad-6613-4694-aaf1-4f411bdd172c",
   "metadata": {},
   "outputs": [],
   "source": [
    "def Plus_one(number):\n",
    "    return number + 1"
   ]
  },
  {
   "cell_type": "code",
   "execution_count": 6,
   "id": "c1577f67-67c8-49b5-9db4-72003b96145b",
   "metadata": {},
   "outputs": [
    {
     "data": {
      "text/plain": [
       "<function __main__.Plus_one(number)>"
      ]
     },
     "execution_count": 6,
     "metadata": {},
     "output_type": "execute_result"
    }
   ],
   "source": [
    "add_one = Plus_one\n",
    "add_one"
   ]
  },
  {
   "cell_type": "code",
   "execution_count": 7,
   "id": "16d84028-1d57-4e8f-b69d-d12f8c069fa5",
   "metadata": {},
   "outputs": [
    {
     "data": {
      "text/plain": [
       "6"
      ]
     },
     "execution_count": 7,
     "metadata": {},
     "output_type": "execute_result"
    }
   ],
   "source": [
    "add_one(5)"
   ]
  },
  {
   "cell_type": "markdown",
   "id": "f9f309c7-6170-4533-8c73-f127d75ab239",
   "metadata": {},
   "source": [
    "## Functions within functions"
   ]
  },
  {
   "cell_type": "code",
   "execution_count": 8,
   "id": "3d62feb6-c113-41a4-8456-00f5348563fb",
   "metadata": {},
   "outputs": [],
   "source": [
    "def Plus_one(number):\n",
    "    def _plus_one(_number):\n",
    "        return _number + 1\n",
    "    result = _plus_one(number)\n",
    "    return result"
   ]
  },
  {
   "cell_type": "code",
   "execution_count": 9,
   "id": "e8c774a3-27f6-4309-bdd3-111129179c40",
   "metadata": {},
   "outputs": [
    {
     "data": {
      "text/plain": [
       "2"
      ]
     },
     "execution_count": 9,
     "metadata": {},
     "output_type": "execute_result"
    }
   ],
   "source": [
    "Plus_one(1)"
   ]
  },
  {
   "cell_type": "markdown",
   "id": "ffc14d34-27c4-4c53-a757-c063d9139b9f",
   "metadata": {},
   "source": [
    "## decorator on functions without arguments example"
   ]
  },
  {
   "cell_type": "code",
   "execution_count": 10,
   "id": "3d554c97-6750-4a2a-8f3f-1a8e9131e6bd",
   "metadata": {},
   "outputs": [],
   "source": [
    "def upper_case(_function):\n",
    "    # takes the function, wraps it with added code, and return the function.\n",
    "    def wrapper():\n",
    "        # execute function to get the string\n",
    "        value = _function()\n",
    "        make_upper = value.upper()\n",
    "        return make_upper\n",
    "    # return the un-executed function\n",
    "    return wrapper"
   ]
  },
  {
   "cell_type": "code",
   "execution_count": 11,
   "id": "1512ee3c-41f3-4b8a-8244-1ec14cb24de3",
   "metadata": {},
   "outputs": [],
   "source": [
    "def say():\n",
    "    return 'hello'"
   ]
  },
  {
   "cell_type": "code",
   "execution_count": 12,
   "id": "261549c4-d905-40c6-9edf-393db2501463",
   "metadata": {},
   "outputs": [
    {
     "data": {
      "text/plain": [
       "'HELLO'"
      ]
     },
     "execution_count": 12,
     "metadata": {},
     "output_type": "execute_result"
    }
   ],
   "source": [
    "# decorate the say function with upper_Case\n",
    "say = upper_case(say)\n",
    "say()"
   ]
  },
  {
   "cell_type": "markdown",
   "id": "ba70485b-7afb-4e3e-86b2-4d93ac0d4821",
   "metadata": {},
   "source": [
    "## decorator on functions without arguments"
   ]
  },
  {
   "cell_type": "code",
   "execution_count": 19,
   "id": "ea814ba2-6ee7-42f3-955d-8bf5856996f4",
   "metadata": {},
   "outputs": [],
   "source": [
    "@upper_case\n",
    "def sayHello():\n",
    "    return 'hello'"
   ]
  },
  {
   "cell_type": "code",
   "execution_count": 20,
   "id": "2e241d3b-c834-4922-a26a-cd961d86cf73",
   "metadata": {},
   "outputs": [
    {
     "data": {
      "text/plain": [
       "'HELLO'"
      ]
     },
     "execution_count": 20,
     "metadata": {},
     "output_type": "execute_result"
    }
   ],
   "source": [
    "sayHello()"
   ]
  },
  {
   "cell_type": "markdown",
   "id": "0fed6709-cab9-45b0-9db7-3f94095dbc42",
   "metadata": {},
   "source": [
    "## decorator with arguments"
   ]
  },
  {
   "cell_type": "code",
   "execution_count": 21,
   "id": "57784941-916a-4b83-8e44-542dc1905c06",
   "metadata": {},
   "outputs": [],
   "source": [
    "def make_case(case_type):\n",
    "\n",
    "    def decorator(function):\n",
    "\n",
    "        def wrapper():\n",
    "            value = function()\n",
    "            if case_type == 'upper':\n",
    "                make_case = value.upper()\n",
    "            elif case_type == 'lower':\n",
    "                make_case = value.lower()\n",
    "            return make_case\n",
    "\n",
    "        return wrapper\n",
    "\n",
    "    return decorator"
   ]
  },
  {
   "cell_type": "code",
   "execution_count": 22,
   "id": "efc8b680-d755-49a6-a283-4c104cc7e96e",
   "metadata": {},
   "outputs": [],
   "source": [
    "@make_case('lower')\n",
    "def say():\n",
    "    return 'HELLO'"
   ]
  },
  {
   "cell_type": "code",
   "execution_count": 23,
   "id": "c51f955f-3e17-4f26-8a4b-269dcaac81e0",
   "metadata": {},
   "outputs": [
    {
     "data": {
      "text/plain": [
       "'hello'"
      ]
     },
     "execution_count": 23,
     "metadata": {},
     "output_type": "execute_result"
    }
   ],
   "source": [
    "say()"
   ]
  },
  {
   "cell_type": "markdown",
   "id": "296431ea-5ac8-4a89-8ee2-eb1cad421822",
   "metadata": {},
   "source": [
    "## Using a classmethod as a decorator\n",
    "python has default decorators such as classmethodclass Person():\n",
    "    def __init__(self,name):\n",
    "        self.name = name\n",
    "    @classmethod\n",
    "    def call(self):\n",
    "        print('hello')"
   ]
  },
  {
   "cell_type": "code",
   "execution_count": 24,
   "id": "897f65b5-2548-4d15-9780-252b675d2394",
   "metadata": {},
   "outputs": [],
   "source": [
    "class Person():\n",
    "    def __init__(self,name):\n",
    "        self.name = name\n",
    "    @classmethod\n",
    "    def call(self):\n",
    "        print('hello')"
   ]
  },
  {
   "cell_type": "code",
   "execution_count": 26,
   "id": "dbcd9a7c-f14e-4a3d-9d7d-9c401a4a3ed7",
   "metadata": {},
   "outputs": [
    {
     "name": "stdout",
     "output_type": "stream",
     "text": [
      "hello\n"
     ]
    }
   ],
   "source": [
    "ethan = Person('ethan')\n",
    "ethan.call()"
   ]
  },
  {
   "cell_type": "code",
   "execution_count": 27,
   "id": "1ee52fea-e9a4-40b6-b8f9-4bb651d383e1",
   "metadata": {},
   "outputs": [
    {
     "name": "stdout",
     "output_type": "stream",
     "text": [
      "hello\n"
     ]
    }
   ],
   "source": [
    "# Do not need to declare a class instance to use the classmethod\n",
    "Person.call()"
   ]
  },
  {
   "cell_type": "code",
   "execution_count": null,
   "id": "129c76e2-d3b9-4961-bc25-d2560a842162",
   "metadata": {},
   "outputs": [],
   "source": []
  }
 ],
 "metadata": {
  "kernelspec": {
   "display_name": "Python 3",
   "language": "python",
   "name": "python3"
  },
  "language_info": {
   "codemirror_mode": {
    "name": "ipython",
    "version": 3
   },
   "file_extension": ".py",
   "mimetype": "text/x-python",
   "name": "python",
   "nbconvert_exporter": "python",
   "pygments_lexer": "ipython3",
   "version": "3.8.8"
  }
 },
 "nbformat": 4,
 "nbformat_minor": 5
}
