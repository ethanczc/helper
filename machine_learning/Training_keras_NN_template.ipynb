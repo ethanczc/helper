{
 "cells": [
  {
   "cell_type": "markdown",
   "id": "8f900937-852f-494f-9a7a-8b7c845bcb72",
   "metadata": {},
   "source": [
    "# Training using Keras Neural Network Base Template"
   ]
  },
  {
   "cell_type": "code",
   "execution_count": 1,
   "id": "b97345db-2158-46c7-8952-e421c41214ff",
   "metadata": {},
   "outputs": [],
   "source": [
    "import pandas as pd\n",
    "import numpy as np\n",
    "import seaborn as sns\n",
    "import matplotlib.pyplot as plt\n",
    "from sklearn.model_selection import train_test_split\n",
    "from sklearn.preprocessing import MinMaxScaler\n",
    "import joblib\n",
    "from sklearn.metrics import mean_absolute_error, mean_squared_error, root_mean_squared_error, mean_absolute_percentage_error,r2_score\n",
    "from keras.models import Sequential, load_model\n",
    "from keras.layers import Dense\n",
    "from keras import optimizers, callbacks, Input\n",
    "pd.options.display.max_columns = None"
   ]
  },
  {
   "cell_type": "markdown",
   "id": "68785b38",
   "metadata": {},
   "source": [
    "## Functions"
   ]
  },
  {
   "cell_type": "code",
   "execution_count": 2,
   "id": "adafe2bf",
   "metadata": {},
   "outputs": [],
   "source": [
    "def split_and_scale_data(X, y):\n",
    "    X_train, X_test, y_train, y_test = train_test_split(X, y, test_size=0.2, random_state=101)\n",
    "    scaler = MinMaxScaler()\n",
    "    scaler.fit(X_train)\n",
    "    X_train = scaler.transform(X_train)\n",
    "    X_test = scaler.transform(X_test)\n",
    "    return scaler, X_train, X_test, y_train, y_test"
   ]
  },
  {
   "cell_type": "code",
   "execution_count": 3,
   "id": "815b39b8",
   "metadata": {},
   "outputs": [],
   "source": [
    "def get_sequential_model(model_params, features_input, features_output):\n",
    "    ''' Input a model params dict with optimizer, loss function, number of units \n",
    "    per hidden layer, no. of hidden layers, activation layer, and epochs.'''\n",
    "    model = Sequential()\n",
    "    model.add(Input(shape=(len(features_input),)))\n",
    "    for i in range (0,model_params['hidden_layers']):\n",
    "        model.add(Dense(model_params['units'], activation= model_params['activation']))\n",
    "    model.add(Dense(len(features_output), activation= model_params['activation']))\n",
    "    model.compile(optimizer= model_params['optimizer'], loss= model_params['loss'])\n",
    "    return model"
   ]
  },
  {
   "cell_type": "code",
   "execution_count": 4,
   "id": "3a0663e3",
   "metadata": {},
   "outputs": [],
   "source": [
    "def plot_losses(loss_df, start, end):\n",
    "    ''' use start and end to zoom into plot, from 0 to 1.0. E.g. 0.1 - 0.2 '''\n",
    "    plt.figure(figsize=(3,2))\n",
    "    before_epoch = int(start * len(loss_df))\n",
    "    after_epoch = int(end * len(loss_df))\n",
    "    plt.plot(loss_df[before_epoch:after_epoch])\n",
    "    plt.xlabel('Epoch')\n",
    "    plt.ylabel('Loss')\n",
    "    plt.legend(['Training Loss','Validation Loss'])"
   ]
  },
  {
   "cell_type": "code",
   "execution_count": 5,
   "id": "8ecc8836",
   "metadata": {},
   "outputs": [],
   "source": [
    "def get_test_vs_pred_dataframe(y_test, y_pred, outputs):\n",
    "    ''' accomodate for multiple outputs '''\n",
    "    y_pred = pd.DataFrame(data= np.asarray(y_pred))\n",
    "    pred_df = pd.DataFrame(data= np.asarray(y_test))\n",
    "    pred_df = pd.concat([pred_df, y_pred], axis=1)\n",
    "    test_list = ['test_'+feature for feature in outputs]\n",
    "    pred_list = ['pred_'+feature for feature in outputs]\n",
    "    pred_df.columns = test_list + pred_list\n",
    "    return pred_df"
   ]
  },
  {
   "cell_type": "code",
   "execution_count": 6,
   "id": "6447718d",
   "metadata": {},
   "outputs": [],
   "source": [
    "def get_score_metrics(pred_df, outputs, round_off):\n",
    "    ''' form a error and r2 score metrics dataframe of multiple outputs '''\n",
    "    data_dict = dict()\n",
    "    for output in outputs:\n",
    "        test_output = 'test_'+ output\n",
    "        pred_output = 'pred_'+ output\n",
    "        mae = round(mean_absolute_error(pred_df[test_output], pred_df[pred_output]),round_off)\n",
    "        mse = round(mean_squared_error(pred_df[test_output], pred_df[pred_output]),round_off)\n",
    "        rmse = round(root_mean_squared_error(pred_df[test_output], pred_df[pred_output]),round_off)\n",
    "        #mape = mean_absolute_percentage_error(pred_df[test_output], pred_df[pred_output]) * 100\n",
    "        r2 = round(r2_score(pred_df[test_output], pred_df[pred_output]),round_off)\n",
    "        data_dict[output] = [mae, mse, rmse, r2]\n",
    "    # form df\n",
    "    metrics_df = pd.DataFrame(data= data_dict)\n",
    "    metrics_df.index = ['mae', 'mse', 'rmse', 'r2']\n",
    "    return metrics_df"
   ]
  },
  {
   "cell_type": "code",
   "execution_count": 7,
   "id": "b0fc2230",
   "metadata": {},
   "outputs": [],
   "source": [
    "def plot_true_vs_pred(pred_df, feature, xy_step=1):\n",
    "    '''The true vs pred plot includes an y=x line. The step is used for results < 1.'''\n",
    "    true_feature = 'test_' + feature\n",
    "    pred_feature = 'pred_' + feature\n",
    "    sns.lineplot(x= np.arange(min(pred_df[true_feature]), max(pred_df[true_feature]), xy_step), \n",
    "                 y= np.arange(min(pred_df[true_feature]), max(pred_df[true_feature]), xy_step), \n",
    "                 c='grey')\n",
    "    ax = sns.scatterplot(x= pred_df[true_feature], y= pred_df[pred_feature])\n",
    "    #ax.text(1,270,'NN model (co2)\\nR2 score: {}'.format(round(r2,3)))"
   ]
  },
  {
   "cell_type": "code",
   "execution_count": 8,
   "id": "afe61c55",
   "metadata": {},
   "outputs": [],
   "source": [
    "def get_error_columns(pred_df, features_output):\n",
    "    for feature in features_output:\n",
    "        test_feature = 'test_'+ feature\n",
    "        pred_feature = 'pred_'+ feature\n",
    "        error_column = 'error_percent_'+ feature\n",
    "        for index in pred_df.index:\n",
    "            if pred_df.loc[index, test_feature] != 0:\n",
    "                pred_df.loc[index, error_column] = (pred_df.loc[index,pred_feature] - pred_df.loc[index,test_feature]) *100 / pred_df.loc[index,test_feature]\n",
    "            else:\n",
    "                pred_df.loc[index, error_column] = 0\n",
    "    return pred_df"
   ]
  },
  {
   "cell_type": "markdown",
   "id": "9e132d9b",
   "metadata": {},
   "source": [
    "## Start"
   ]
  },
  {
   "cell_type": "code",
   "execution_count": 9,
   "id": "2d48b03b-54e5-4b13-9bd7-70f4eb566693",
   "metadata": {},
   "outputs": [
    {
     "data": {
      "text/html": [
       "<div>\n",
       "<style scoped>\n",
       "    .dataframe tbody tr th:only-of-type {\n",
       "        vertical-align: middle;\n",
       "    }\n",
       "\n",
       "    .dataframe tbody tr th {\n",
       "        vertical-align: top;\n",
       "    }\n",
       "\n",
       "    .dataframe thead th {\n",
       "        text-align: right;\n",
       "    }\n",
       "</style>\n",
       "<table border=\"1\" class=\"dataframe\">\n",
       "  <thead>\n",
       "    <tr style=\"text-align: right;\">\n",
       "      <th></th>\n",
       "      <th>me1_hrs</th>\n",
       "      <th>me2_hrs</th>\n",
       "      <th>dg1_hrs</th>\n",
       "      <th>dg2_hrs</th>\n",
       "      <th>dg3_hrs</th>\n",
       "      <th>dg4_hrs</th>\n",
       "      <th>cp1_hrs</th>\n",
       "      <th>cp2_hrs</th>\n",
       "      <th>bow_hrs</th>\n",
       "      <th>underway_hrs</th>\n",
       "      <th>distance</th>\n",
       "      <th>fuel_consumed</th>\n",
       "    </tr>\n",
       "    <tr>\n",
       "      <th>date</th>\n",
       "      <th></th>\n",
       "      <th></th>\n",
       "      <th></th>\n",
       "      <th></th>\n",
       "      <th></th>\n",
       "      <th></th>\n",
       "      <th></th>\n",
       "      <th></th>\n",
       "      <th></th>\n",
       "      <th></th>\n",
       "      <th></th>\n",
       "      <th></th>\n",
       "    </tr>\n",
       "  </thead>\n",
       "  <tbody>\n",
       "    <tr>\n",
       "      <th>20240401</th>\n",
       "      <td>15.5</td>\n",
       "      <td>7.1</td>\n",
       "      <td>20</td>\n",
       "      <td>0</td>\n",
       "      <td>4</td>\n",
       "      <td>8</td>\n",
       "      <td>8.4</td>\n",
       "      <td>0.0</td>\n",
       "      <td>2.4</td>\n",
       "      <td>7.1</td>\n",
       "      <td>29.0</td>\n",
       "      <td>2.395</td>\n",
       "    </tr>\n",
       "    <tr>\n",
       "      <th>20240402</th>\n",
       "      <td>3.7</td>\n",
       "      <td>17.0</td>\n",
       "      <td>19</td>\n",
       "      <td>0</td>\n",
       "      <td>8</td>\n",
       "      <td>1</td>\n",
       "      <td>0.0</td>\n",
       "      <td>13.3</td>\n",
       "      <td>0.8</td>\n",
       "      <td>3.7</td>\n",
       "      <td>25.6</td>\n",
       "      <td>2.131</td>\n",
       "    </tr>\n",
       "    <tr>\n",
       "      <th>20240403</th>\n",
       "      <td>4.1</td>\n",
       "      <td>8.8</td>\n",
       "      <td>23</td>\n",
       "      <td>0</td>\n",
       "      <td>2</td>\n",
       "      <td>3</td>\n",
       "      <td>0.0</td>\n",
       "      <td>4.7</td>\n",
       "      <td>1.2</td>\n",
       "      <td>4.1</td>\n",
       "      <td>21.2</td>\n",
       "      <td>1.608</td>\n",
       "    </tr>\n",
       "    <tr>\n",
       "      <th>20240404</th>\n",
       "      <td>11.0</td>\n",
       "      <td>12.9</td>\n",
       "      <td>21</td>\n",
       "      <td>0</td>\n",
       "      <td>7</td>\n",
       "      <td>3</td>\n",
       "      <td>0.0</td>\n",
       "      <td>1.9</td>\n",
       "      <td>1.6</td>\n",
       "      <td>11.0</td>\n",
       "      <td>68.4</td>\n",
       "      <td>2.551</td>\n",
       "    </tr>\n",
       "    <tr>\n",
       "      <th>20240405</th>\n",
       "      <td>6.6</td>\n",
       "      <td>14.2</td>\n",
       "      <td>18</td>\n",
       "      <td>0</td>\n",
       "      <td>8</td>\n",
       "      <td>2</td>\n",
       "      <td>0.0</td>\n",
       "      <td>7.6</td>\n",
       "      <td>1.4</td>\n",
       "      <td>6.6</td>\n",
       "      <td>48.5</td>\n",
       "      <td>2.594</td>\n",
       "    </tr>\n",
       "  </tbody>\n",
       "</table>\n",
       "</div>"
      ],
      "text/plain": [
       "          me1_hrs  me2_hrs  dg1_hrs  dg2_hrs  dg3_hrs  dg4_hrs  cp1_hrs  \\\n",
       "date                                                                      \n",
       "20240401     15.5      7.1       20        0        4        8      8.4   \n",
       "20240402      3.7     17.0       19        0        8        1      0.0   \n",
       "20240403      4.1      8.8       23        0        2        3      0.0   \n",
       "20240404     11.0     12.9       21        0        7        3      0.0   \n",
       "20240405      6.6     14.2       18        0        8        2      0.0   \n",
       "\n",
       "          cp2_hrs  bow_hrs  underway_hrs  distance  fuel_consumed  \n",
       "date                                                               \n",
       "20240401      0.0      2.4           7.1      29.0          2.395  \n",
       "20240402     13.3      0.8           3.7      25.6          2.131  \n",
       "20240403      4.7      1.2           4.1      21.2          1.608  \n",
       "20240404      1.9      1.6          11.0      68.4          2.551  \n",
       "20240405      7.6      1.4           6.6      48.5          2.594  "
      ]
     },
     "execution_count": 9,
     "metadata": {},
     "output_type": "execute_result"
    }
   ],
   "source": [
    "df = pd.read_csv('raw_input.csv', index_col=[0])\n",
    "df.head()"
   ]
  },
  {
   "cell_type": "code",
   "execution_count": 10,
   "id": "8ce84e39",
   "metadata": {},
   "outputs": [
    {
     "data": {
      "text/plain": [
       "\"# reduce columns by taking sum or max, min\\ndf['me_hrs'] = df[['me1_hrs', 'me2_hrs']].min(axis=1)\\ndf['dg_hrs'] = df['dg1_hrs'] + df['dg2_hrs'] + df['dg3_hrs'] + df['dg4_hrs']\\ndf['cp_hrs'] = df[['cp1_hrs', 'cp2_hrs']].max(axis=1)\\nfeatures_input = ['me_hrs', 'dg_hrs','cp_hrs', 'bow_hrs', 'underway_hrs', 'distance']\""
      ]
     },
     "execution_count": 10,
     "metadata": {},
     "output_type": "execute_result"
    }
   ],
   "source": [
    "'''# reduce columns by taking sum or max, min\n",
    "df['me_hrs'] = df[['me1_hrs', 'me2_hrs']].min(axis=1)\n",
    "df['dg_hrs'] = df['dg1_hrs'] + df['dg2_hrs'] + df['dg3_hrs'] + df['dg4_hrs']\n",
    "df['cp_hrs'] = df[['cp1_hrs', 'cp2_hrs']].max(axis=1)\n",
    "features_input = ['me_hrs', 'dg_hrs','cp_hrs', 'bow_hrs', 'underway_hrs', 'distance']'''"
   ]
  },
  {
   "cell_type": "code",
   "execution_count": 11,
   "id": "27709565",
   "metadata": {},
   "outputs": [
    {
     "name": "stdout",
     "output_type": "stream",
     "text": [
      "182 specimens \n",
      "11 features \n",
      "1 outputs\n"
     ]
    }
   ],
   "source": [
    "# feature selection\n",
    "features_input = list(df.columns.drop('fuel_consumed'))\n",
    "features_output = ['fuel_consumed']\n",
    "X = df[features_input].values\n",
    "y = df[features_output].values\n",
    "print('%i specimens \\n%i features \\n%i outputs' %(len(df), len(features_input), len(features_output)))"
   ]
  },
  {
   "cell_type": "code",
   "execution_count": 12,
   "id": "35e392b6-7f5a-4138-ab3e-23b76245cc3e",
   "metadata": {},
   "outputs": [],
   "source": [
    "# Split and scale data\n",
    "scaler, X_train, X_test, y_train, y_test = split_and_scale_data(X, y)"
   ]
  },
  {
   "cell_type": "code",
   "execution_count": 13,
   "id": "8b4ae109",
   "metadata": {},
   "outputs": [],
   "source": [
    "# Create ML model\n",
    "model_params = {'units':320, \n",
    "                'optimizer':'adam', \n",
    "                'loss':'mse', \n",
    "                'activation':'relu',\n",
    "                'hidden_layers': 3,\n",
    "                'epochs': 1000}\n",
    "model = get_sequential_model(model_params, features_input, features_output)"
   ]
  },
  {
   "cell_type": "code",
   "execution_count": 14,
   "id": "b0656fa4",
   "metadata": {},
   "outputs": [],
   "source": [
    "# Train model\n",
    "callbacks = [callbacks.EarlyStopping(monitor='val_loss', \n",
    "                                     mode='min', \n",
    "                                     patience=50, \n",
    "                                     restore_best_weights=True\n",
    "                                     #filepath='best_model.h5',\n",
    "                                     #save_best_only=True, \n",
    "                                     )\n",
    "            ]\n",
    "model.fit(x= X_train, y= y_train, validation_split=0.3, epochs= model_params['epochs'], callbacks=callbacks, verbose=0)\n",
    "loss_df = pd.DataFrame(model.history.history)"
   ]
  },
  {
   "cell_type": "code",
   "execution_count": 15,
   "id": "b3b28e2b",
   "metadata": {},
   "outputs": [
    {
     "data": {
      "image/png": "[encoded data removed]",
      "text/plain": [
       "<Figure size 300x200 with 1 Axes>"
      ]
     },
     "metadata": {},
     "output_type": "display_data"
    }
   ],
   "source": [
    "# Plot losses\n",
    "plot_losses(loss_df, 0, 1)"
   ]
  },
  {
   "cell_type": "code",
   "execution_count": 16,
   "id": "381f11ee",
   "metadata": {},
   "outputs": [
    {
     "name": "stdout",
     "output_type": "stream",
     "text": [
      "2/2 [==============================] - 0s 3ms/step\n"
     ]
    },
    {
     "data": {
      "text/html": [
       "<div>\n",
       "<style scoped>\n",
       "    .dataframe tbody tr th:only-of-type {\n",
       "        vertical-align: middle;\n",
       "    }\n",
       "\n",
       "    .dataframe tbody tr th {\n",
       "        vertical-align: top;\n",
       "    }\n",
       "\n",
       "    .dataframe thead th {\n",
       "        text-align: right;\n",
       "    }\n",
       "</style>\n",
       "<table border=\"1\" class=\"dataframe\">\n",
       "  <thead>\n",
       "    <tr style=\"text-align: right;\">\n",
       "      <th></th>\n",
       "      <th>fuel_consumed</th>\n",
       "    </tr>\n",
       "  </thead>\n",
       "  <tbody>\n",
       "    <tr>\n",
       "      <th>mae</th>\n",
       "      <td>0.1673</td>\n",
       "    </tr>\n",
       "    <tr>\n",
       "      <th>mse</th>\n",
       "      <td>0.0544</td>\n",
       "    </tr>\n",
       "    <tr>\n",
       "      <th>rmse</th>\n",
       "      <td>0.2332</td>\n",
       "    </tr>\n",
       "    <tr>\n",
       "      <th>r2</th>\n",
       "      <td>0.8416</td>\n",
       "    </tr>\n",
       "  </tbody>\n",
       "</table>\n",
       "</div>"
      ],
      "text/plain": [
       "      fuel_consumed\n",
       "mae          0.1673\n",
       "mse          0.0544\n",
       "rmse         0.2332\n",
       "r2           0.8416"
      ]
     },
     "execution_count": 16,
     "metadata": {},
     "output_type": "execute_result"
    }
   ],
   "source": [
    "# Print error metrics\n",
    "y_pred = model.predict(X_test)\n",
    "pred_df = get_test_vs_pred_dataframe(y_test, y_pred, features_output)\n",
    "metrics_df = get_score_metrics(pred_df, features_output, 4)\n",
    "metrics_df"
   ]
  },
  {
   "cell_type": "code",
   "execution_count": 17,
   "id": "6dd1aed6",
   "metadata": {},
   "outputs": [
    {
     "data": {
      "image/png": "[encoded data removed]",
      "text/plain": [
       "<Figure size 640x480 with 1 Axes>"
      ]
     },
     "metadata": {},
     "output_type": "display_data"
    }
   ],
   "source": [
    "# Plot true vs pred\n",
    "plot_true_vs_pred(pred_df, 'fuel_consumed', 1)"
   ]
  },
  {
   "cell_type": "code",
   "execution_count": 18,
   "id": "deb9f534",
   "metadata": {},
   "outputs": [
    {
     "data": {
      "text/plain": [
       "Text(0.5, 0, 'Percent Error for error_percent_fuel_consumed')"
      ]
     },
     "execution_count": 18,
     "metadata": {},
     "output_type": "execute_result"
    },
    {
     "data": {
      "image/png": "[encoded data removed]",
      "text/plain": [
       "<Figure size 640x480 with 1 Axes>"
      ]
     },
     "metadata": {},
     "output_type": "display_data"
    }
   ],
   "source": [
    "# Plot error hist\n",
    "pred_df = get_error_columns(pred_df, features_output)\n",
    "pred_df['error_percent_fuel_consumed'].plot(kind='hist', bins=10)\n",
    "plt.xlabel('Percent Error for {}' .format('error_percent_fuel_consumed'))"
   ]
  },
  {
   "cell_type": "code",
   "execution_count": 19,
   "id": "5542d8f1",
   "metadata": {},
   "outputs": [
    {
     "data": {
      "text/plain": [
       "-0.4910552783962905"
      ]
     },
     "execution_count": 19,
     "metadata": {},
     "output_type": "execute_result"
    }
   ],
   "source": [
    "pred_df['error_percent_fuel_consumed'].mean()"
   ]
  },
  {
   "cell_type": "code",
   "execution_count": 20,
   "id": "31f51b7b-c755-47b7-8943-bffb9091c49b",
   "metadata": {},
   "outputs": [],
   "source": [
    "## model saving\n",
    "#joblib.dump(scaler, 'scaler.gz')\n",
    "#model.save('model.keras')"
   ]
  },
  {
   "cell_type": "code",
   "execution_count": null,
   "id": "8c6d217a",
   "metadata": {},
   "outputs": [],
   "source": []
  }
 ],
 "metadata": {
  "kernelspec": {
   "display_name": "aico2e",
   "language": "python",
   "name": "python3"
  },
  "language_info": {
   "codemirror_mode": {
    "name": "ipython",
    "version": 3
   },
   "file_extension": ".py",
   "mimetype": "text/x-python",
   "name": "python",
   "nbconvert_exporter": "python",
   "pygments_lexer": "ipython3",
   "version": "3.10.13"
  }
 },
 "nbformat": 4,
 "nbformat_minor": 5
}
